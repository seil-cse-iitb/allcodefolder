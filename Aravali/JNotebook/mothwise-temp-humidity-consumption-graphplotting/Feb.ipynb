{
 "cells": [
  {
   "cell_type": "code",
   "execution_count": 1,
   "metadata": {
    "collapsed": true
   },
   "outputs": [],
   "source": [
    "import pandas as pd\n",
    "import os\n",
    "import numpy as np\n",
    "import datetime\n",
    "\n",
    "from collections import defaultdict\n",
    "from sklearn.cluster import KMeans\n",
    "from sklearn import metrics\n",
    "import matplotlib.pyplot as plt\n",
    "import matplotlib\n",
    "%matplotlib inline\n",
    "from pymongo import MongoClient"
   ]
  },
  {
   "cell_type": "code",
   "execution_count": 2,
   "metadata": {
    "collapsed": false
   },
   "outputs": [],
   "source": [
    "import csv\n",
    "\n",
    "txt_file = r\"feb_temp_new.txt\"\n",
    "csv_file = r\"februarycsv.csv\"\n",
    "\n",
    "# use 'with' if the program isn't going to immediately terminate\n",
    "# so you don't leave files open\n",
    "# the 'b' is necessary on Windows\n",
    "# it prevents \\x1a, Ctrl-z, from ending the stream prematurely\n",
    "# and also stops Python converting to / from different line terminators\n",
    "# On other platforms, it has no effect\n",
    "in_txt = csv.reader(open(txt_file, \"r\"), delimiter = '\\t')\n",
    "out_csv = csv.writer(open(csv_file, 'w'))\n",
    "\n",
    "out_csv.writerows(in_txt)"
   ]
  },
  {
   "cell_type": "code",
   "execution_count": null,
   "metadata": {
    "collapsed": false
   },
   "outputs": [],
   "source": []
  },
  {
   "cell_type": "code",
   "execution_count": null,
   "metadata": {
    "collapsed": false
   },
   "outputs": [],
   "source": []
  },
  {
   "cell_type": "code",
   "execution_count": 3,
   "metadata": {
    "collapsed": false,
    "scrolled": true
   },
   "outputs": [
    {
     "name": "stdout",
     "output_type": "stream",
     "text": [
      "0     174.622945\n",
      "1     252.823811\n",
      "2     217.978537\n",
      "3     221.248797\n",
      "4     190.018723\n",
      "5     180.380775\n",
      "6     168.312923\n",
      "7     109.410048\n",
      "8     273.763894\n",
      "9     123.781165\n",
      "10    185.414008\n",
      "11    177.825420\n",
      "12    172.699932\n",
      "13    223.250034\n",
      "14    167.758410\n",
      "15    199.917341\n",
      "16      0.000000\n",
      "17      0.000000\n",
      "18      0.000000\n",
      "19     83.926368\n",
      "20    382.502353\n",
      "21    144.638214\n",
      "22    226.915389\n",
      "23    128.468485\n",
      "24    221.646827\n",
      "25    246.339851\n",
      "26    226.077852\n",
      "27    225.145905\n",
      "28    137.157866\n",
      "29      0.000000\n",
      "         ...    \n",
      "47    187.970495\n",
      "48    166.295887\n",
      "49    159.229618\n",
      "50    190.359482\n",
      "51    220.271328\n",
      "52    192.674896\n",
      "53    214.139606\n",
      "54    210.002934\n",
      "55    185.025959\n",
      "56    133.120256\n",
      "57      0.000000\n",
      "58      0.000000\n",
      "59      0.000000\n",
      "60      0.000000\n",
      "61      0.000000\n",
      "62      0.000000\n",
      "63    624.638795\n",
      "64      0.959050\n",
      "65    118.212112\n",
      "66    627.334057\n",
      "67      0.000000\n",
      "68      0.000000\n",
      "69      0.000000\n",
      "70      0.000000\n",
      "71    167.053298\n",
      "72    645.885805\n",
      "73    398.139400\n",
      "74    272.626339\n",
      "75    306.036517\n",
      "76     80.622356\n",
      "dtype: float64\n",
      "(28, 2)\n",
      "77\n",
      "max =  627.334057428 0.959049835593\n",
      "           tempavg  humidavg       con\n",
      "tempavg   1.000000 -0.713973 -0.339652\n",
      "humidavg -0.713973  1.000000  0.316076\n",
      "con      -0.339652  0.316076  1.000000\n"
     ]
    },
    {
     "data": {
      "image/png": "[encoded data removed]",
      "text/plain": [
       "<matplotlib.figure.Figure at 0x7f1fe78d9240>"
      ]
     },
     "metadata": {},
     "output_type": "display_data"
    }
   ],
   "source": [
    "# print(DF.head())\n",
    "# DF.to_csv(\"new_mongo_aravali.csv\")\n",
    "DF = pd.read_csv(\"new_mongo_aravali.csv\")\n",
    "# print(DF)\n",
    "# # del DF['aravali_3']\n",
    "# DF = DF.drop('aravali_3', 1)\n",
    "# # del DF['aravali_208']\n",
    "# del DF['aravali_234']\n",
    "# # del DF['aravali_11']\n",
    "# del DF['aravali_238']\n",
    "# # del DF['aravali_22']\n",
    "# # del DF['aravali_212']\n",
    "# del DF['aravali_10']\n",
    "# del DF['aravali_233']\n",
    "# del DF['aravali_224']\n",
    "# del DF['aravali_1']\n",
    "# del DF['aravali_247']\n",
    "# DF[DF < 0] = 0\n",
    "# DF = DF.replace([np.inf, -np.inf], np.nan)\n",
    "DF.round(2)\n",
    "sumcon = DF.sum(axis=1) \n",
    "print(sumcon)\n",
    "temp = pd.read_csv('februarycsv.csv')\n",
    "\n",
    "# # temp = temp.drop(temp.index[[29]])\n",
    "# print(temp)\n",
    "sc = list(sumcon)\n",
    "print(temp.shape)\n",
    "print(len(sc))\n",
    "print(\"max = \", max(sc[44:72]) , min(list(filter((0.0).__ne__, sc[44:72]))))\n",
    "\n",
    "temp['con'] = sc[44:72]\n",
    "temp.plot()\n",
    "# plt.show()\n",
    "plt.savefig('Feb.png')\n",
    "temp.corr().to_csv(\"February.csv\")\n",
    "temp.to_csv('february.csv')\n",
    "print(temp.corr())"
   ]
  },
  {
   "cell_type": "code",
   "execution_count": null,
   "metadata": {
    "collapsed": true
   },
   "outputs": [],
   "source": []
  }
 ],
 "metadata": {
  "anaconda-cloud": {},
  "kernelspec": {
   "display_name": "Python [default]",
   "language": "python",
   "name": "python3"
  },
  "language_info": {
   "codemirror_mode": {
    "name": "ipython",
    "version": 3
   },
   "file_extension": ".py",
   "mimetype": "text/x-python",
   "name": "python",
   "nbconvert_exporter": "python",
   "pygments_lexer": "ipython3",
   "version": "3.5.2"
  }
 },
 "nbformat": 4,
 "nbformat_minor": 1
}
